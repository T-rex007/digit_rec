{
 "cells": [
  {
   "cell_type": "code",
   "execution_count": 2,
   "metadata": {},
   "outputs": [
    {
     "name": "stderr",
     "output_type": "stream",
     "text": [
      "/home/tyrel/anaconda3/lib/python3.6/site-packages/h5py/__init__.py:36: FutureWarning: Conversion of the second argument of issubdtype from `float` to `np.floating` is deprecated. In future, it will be treated as `np.float64 == np.dtype(float).type`.\n",
      "  from ._conv import register_converters as _register_converters\n"
     ]
    }
   ],
   "source": [
    "%matplotlib inline\n",
    "import tensorflow as tf\n",
    "import numpy as np\n",
    "import pandas as pd"
   ]
  },
  {
   "cell_type": "code",
   "execution_count": 3,
   "metadata": {},
   "outputs": [],
   "source": [
    "sess = tf.InteractiveSession()"
   ]
  },
  {
   "cell_type": "code",
   "execution_count": 4,
   "metadata": {},
   "outputs": [],
   "source": [
    "def load_prep(path, testortrain = 'train' ):\n",
    "    data = pd.read_csv(path)\n",
    "    \n",
    "    from sklearn.preprocessing import StandardScaler, OneHotEncoder, LabelEncoder\n",
    "    if testortrain == 'train':\n",
    "        features = np.array(data.drop('label', axis = 1))\n",
    "        labels = data.label.values\n",
    "        features = StandardScaler().fit_transform(np.float32(features))\n",
    "        return features, labels\n",
    "    elif testortrain == 'test':\n",
    "        features = np.array(data)\n",
    "        features = StandardScaler().fit_transform(np.float32(features))\n",
    "        return features\n",
    "    else:\n",
    "        print(\"-Test or Train ?\")\n",
    "        return None\n",
    "    \n",
    "def generator(features, labels, batch_size):\n",
    "    for i in range(0, len(feaures), batch_size):\n",
    "        yield(features[i:i+batch_size], labels[i: i+batch_size])\n"
   ]
  },
  {
   "cell_type": "code",
   "execution_count": 5,
   "metadata": {},
   "outputs": [],
   "source": [
    "features, labels = load_prep(path = \"train.csv\", testortrain = 'train')"
   ]
  },
  {
   "cell_type": "code",
   "execution_count": 6,
   "metadata": {},
   "outputs": [],
   "source": [
    "### Initial Parameters\n",
    "width = 28\n",
    "height = 28\n",
    "n_pixels = width * height\n",
    "n_outputs = 10\n",
    "n_inputs = features.shape[1]"
   ]
  },
  {
   "cell_type": "code",
   "execution_count": 7,
   "metadata": {},
   "outputs": [],
   "source": [
    "x = tf.placeholder(tf.float32, shape = (None, n_pixels), name = 'x')\n",
    "yt = tf.placeholder(tf.float32, shape = (None), name ='target_class')\n",
    "\n",
    "ximg = tf.reshape(x, [-1, 28,28,1])"
   ]
  },
  {
   "cell_type": "code",
   "execution_count": 9,
   "metadata": {},
   "outputs": [],
   "source": [
    "w_convl1 = tf.Variable(tf.truncated_normal([5,5,1,32], stddev = 0.1))\n",
    "b_convl1 = tf.Variable(tf.constant(0.1,shape = [32]))"
   ]
  },
  {
   "cell_type": "code",
   "execution_count": 16,
   "metadata": {},
   "outputs": [],
   "source": [
    "convolvel1 = tf.nn.conv2d(ximg, w_convl1, strides = [1,1,1,1], padding = 'SAME')+ b_convl1\n",
    "h_conv = tf.nn.relu(convolvel1)\n",
    "conv1 = tf.nn.max_pool(h_conv, ksize = [1,2,2,1], strides = [1,2,2,1], padding = 'SAME')\n",
    "### firstlayer completed"
   ]
  },
  {
   "cell_type": "code",
   "execution_count": 18,
   "metadata": {},
   "outputs": [
    {
     "data": {
      "text/plain": [
       "<tf.Tensor 'MaxPool:0' shape=(?, 14, 14, 32) dtype=float32>"
      ]
     },
     "execution_count": 18,
     "metadata": {},
     "output_type": "execute_result"
    }
   ],
   "source": []
  },
  {
   "cell_type": "code",
   "execution_count": 1,
   "metadata": {},
   "outputs": [
    {
     "ename": "ModuleNotFoundError",
     "evalue": "No module named 'tflearn'",
     "output_type": "error",
     "traceback": [
      "\u001b[0;31m---------------------------------------------------------------------------\u001b[0m",
      "\u001b[0;31mModuleNotFoundError\u001b[0m                       Traceback (most recent call last)",
      "\u001b[0;32m<ipython-input-1-9d7ed441cee1>\u001b[0m in \u001b[0;36m<module>\u001b[0;34m()\u001b[0m\n\u001b[0;32m----> 1\u001b[0;31m \u001b[0;32mimport\u001b[0m \u001b[0mtflearn\u001b[0m\u001b[0;34m\u001b[0m\u001b[0m\n\u001b[0m",
      "\u001b[0;31mModuleNotFoundError\u001b[0m: No module named 'tflearn'"
     ]
    }
   ],
   "source": [
    "import tflearn"
   ]
  },
  {
   "cell_type": "code",
   "execution_count": null,
   "metadata": {},
   "outputs": [],
   "source": []
  }
 ],
 "metadata": {
  "kernelspec": {
   "display_name": "Python 3",
   "language": "python",
   "name": "python3"
  },
  "language_info": {
   "codemirror_mode": {
    "name": "ipython",
    "version": 3
   },
   "file_extension": ".py",
   "mimetype": "text/x-python",
   "name": "python",
   "nbconvert_exporter": "python",
   "pygments_lexer": "ipython3",
   "version": "3.6.5"
  }
 },
 "nbformat": 4,
 "nbformat_minor": 2
}
